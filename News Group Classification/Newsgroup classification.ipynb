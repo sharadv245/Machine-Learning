{
 "cells": [
  {
   "cell_type": "code",
   "execution_count": 2,
   "metadata": {},
   "outputs": [],
   "source": [
    "from sklearn.datasets import fetch_20newsgroups\n",
    "newsgroups_train = fetch_20newsgroups(subset='train')\n"
   ]
  },
  {
   "cell_type": "code",
   "execution_count": 3,
   "metadata": {},
   "outputs": [
    {
     "name": "stdout",
     "output_type": "stream",
     "text": [
      "['alt.atheism',\n",
      " 'comp.graphics',\n",
      " 'comp.os.ms-windows.misc',\n",
      " 'comp.sys.ibm.pc.hardware',\n",
      " 'comp.sys.mac.hardware',\n",
      " 'comp.windows.x',\n",
      " 'misc.forsale',\n",
      " 'rec.autos',\n",
      " 'rec.motorcycles',\n",
      " 'rec.sport.baseball',\n",
      " 'rec.sport.hockey',\n",
      " 'sci.crypt',\n",
      " 'sci.electronics',\n",
      " 'sci.med',\n",
      " 'sci.space',\n",
      " 'soc.religion.christian',\n",
      " 'talk.politics.guns',\n",
      " 'talk.politics.mideast',\n",
      " 'talk.politics.misc',\n",
      " 'talk.religion.misc']\n"
     ]
    }
   ],
   "source": [
    "from pprint import pprint\n",
    "pprint(list(newsgroups_train.target_names))"
   ]
  },
  {
   "cell_type": "code",
   "execution_count": 4,
   "metadata": {},
   "outputs": [],
   "source": [
    "from sklearn.feature_extraction.text import TfidfVectorizer\n",
    "vectorizer = TfidfVectorizer()"
   ]
  },
  {
   "cell_type": "code",
   "execution_count": 6,
   "metadata": {},
   "outputs": [
    {
     "name": "stdout",
     "output_type": "stream",
     "text": [
      "[ 7 11  0 ...,  9  3 15]\n",
      "[ 7  5  0 ...,  9  6 15]\n",
      "             precision    recall  f1-score   support\n",
      "\n",
      "          0       0.82      0.78      0.80       319\n",
      "          1       0.69      0.75      0.72       389\n",
      "          2       0.74      0.63      0.68       394\n",
      "          3       0.65      0.75      0.69       392\n",
      "          4       0.83      0.84      0.83       385\n",
      "          5       0.84      0.78      0.81       395\n",
      "          6       0.82      0.78      0.80       390\n",
      "          7       0.89      0.90      0.90       396\n",
      "          8       0.93      0.96      0.95       398\n",
      "          9       0.95      0.94      0.95       397\n",
      "         10       0.95      0.97      0.96       399\n",
      "         11       0.89      0.93      0.91       396\n",
      "         12       0.79      0.77      0.78       393\n",
      "         13       0.89      0.84      0.86       396\n",
      "         14       0.87      0.91      0.89       394\n",
      "         15       0.82      0.95      0.88       398\n",
      "         16       0.76      0.91      0.83       364\n",
      "         17       0.97      0.94      0.96       376\n",
      "         18       0.80      0.64      0.71       310\n",
      "         19       0.76      0.59      0.67       251\n",
      "\n",
      "avg / total       0.84      0.84      0.83      7532\n",
      "\n",
      "[ 0 -6  0 ...,  0  3  0]\n",
      "7532\n",
      "1241\n"
     ]
    }
   ],
   "source": [
    "from sklearn.naive_bayes import MultinomialNB\n",
    "from sklearn import metrics\n",
    "newsgroups_test = fetch_20newsgroups(subset='test')\n",
    "vectorizer = TfidfVectorizer()\n",
    "vectors = vectorizer.fit_transform(newsgroups_train.data)\n",
    "vectors_test = vectorizer.transform(newsgroups_test.data)\n",
    "clf = MultinomialNB(alpha=.01)\n",
    "clf.fit(vectors, newsgroups_train.target)\n",
    "pred = clf.predict(vectors_test)\n",
    "print(pred)\n",
    "print(newsgroups_test.target)http://localhost:8888/notebooks/nbclassi.ipynb#\n",
    "#(metrics.confusion_matrix(newsgroups_test.target,pred))\n",
    "print(metrics.classification_report(newsgroups_test.target,pred))\n",
    "print(newsgroups_test.target - pred)\n",
    "type(pred)\n",
    "t = newsgroups_test.target - pred\n",
    "count = 0\n",
    "for i in range(len(t)):\n",
    "    if(t[i] != 0):\n",
    "        count = count + 1\n",
    "print(len(t))\n",
    "print(count)"
   ]
  }
 ],
 "metadata": {
  "kernelspec": {
   "display_name": "Python 3",
   "language": "python",
   "name": "python3"
  },
  "language_info": {
   "codemirror_mode": {
    "name": "ipython",
    "version": 3
   },
   "file_extension": ".py",
   "mimetype": "text/x-python",
   "name": "python",
   "nbconvert_exporter": "python",
   "pygments_lexer": "ipython3",
   "version": "3.5.2"
  }
 },
 "nbformat": 4,
 "nbformat_minor": 2
}
