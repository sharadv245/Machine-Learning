{
 "cells": [
  {
   "cell_type": "code",
   "execution_count": 11,
   "metadata": {},
   "outputs": [],
   "source": [
    "import numpy as np"
   ]
  },
  {
   "cell_type": "code",
   "execution_count": 12,
   "metadata": {},
   "outputs": [],
   "source": [
    "def sig(z):\n",
    "    return 1/(1 + np.exp(-z))\n"
   ]
  },
  {
   "cell_type": "code",
   "execution_count": 13,
   "metadata": {},
   "outputs": [],
   "source": [
    "def derivativeSig(sig_out):\n",
    "    return sig_out*(1 - sig_out)"
   ]
  },
  {
   "cell_type": "code",
   "execution_count": 14,
   "metadata": {},
   "outputs": [],
   "source": [
    "x = np.array([[0,0,1],[0,1,1],[1,0,1],[1,1,1]])\n",
    "y = np.array([[0,0,1,1]]).T"
   ]
  },
  {
   "cell_type": "code",
   "execution_count": 15,
   "metadata": {},
   "outputs": [
    {
     "data": {
      "text/plain": [
       "array([[-0.26790984],\n",
       "       [ 0.1563845 ],\n",
       "       [ 0.5247328 ]])"
      ]
     },
     "execution_count": 15,
     "metadata": {},
     "output_type": "execute_result"
    }
   ],
   "source": [
    "weights = 2 * np.random.random((3,1)) - 1\n",
    "weights"
   ]
  },
  {
   "cell_type": "code",
   "execution_count": 16,
   "metadata": {},
   "outputs": [
    {
     "data": {
      "text/plain": [
       "array([[ 0.62825379],\n",
       "       [ 0.66398802],\n",
       "       [ 0.56385515],\n",
       "       [ 0.60185672]])"
      ]
     },
     "execution_count": 16,
     "metadata": {},
     "output_type": "execute_result"
    }
   ],
   "source": [
    "output0 = x\n",
    "output1 = sig(np.dot(output0 , weights))\n",
    "output1"
   ]
  },
  {
   "cell_type": "code",
   "execution_count": 17,
   "metadata": {},
   "outputs": [],
   "source": [
    "output0 = x\n",
    "output1 = sig(np.dot(output0 , weights))\n",
    "output1\n",
    "first_term = output1 - y"
   ]
  },
  {
   "cell_type": "code",
   "execution_count": 18,
   "metadata": {},
   "outputs": [],
   "source": [
    "output0 = x\n",
    "output1 = sig(np.dot(output0 , weights))\n",
    "output1\n",
    "first_term = output1 - y\n",
    "second_term = derivativeSig(output1)\n",
    "learning_rate = 0.1"
   ]
  },
  {
   "cell_type": "code",
   "execution_count": 22,
   "metadata": {},
   "outputs": [
    {
     "data": {
      "text/plain": [
       "(array([[ 4.58842   ],\n",
       "        [-2.69877675],\n",
       "        [ 0.5247328 ]]), array([[ 0.62825379],\n",
       "        [ 0.10213483],\n",
       "        [ 0.99401521],\n",
       "        [ 0.91789405]]))"
      ]
     },
     "execution_count": 22,
     "metadata": {},
     "output_type": "execute_result"
    }
   ],
   "source": [
    "for iter in range(1000):    \n",
    "    output0 = x\n",
    "    output1 = sig(np.dot(output0 , weights))\n",
    "    output1\n",
    "    first_term = output1 - y\n",
    "    second_term = derivativeSig(output1)\n",
    "    learning_rate = 0.1\n",
    "    third_term = output0\n",
    "    first_two = first_term * second_term\n",
    "    changes = np.array([[0,0,0.0]])\n",
    "    for i in range(2):\n",
    "        for j in range(4):\n",
    "            changes[0][i] = changes[0][i] + first_two[j][0]*third_term[j][i]\n",
    "    # np.dot(output0.T,first_two)\n",
    "    weights = weights - learning_rate*changes.T\n",
    "weights,output1"
   ]
  },
  {
   "cell_type": "code",
   "execution_count": 25,
   "metadata": {},
   "outputs": [],
   "source": [
    "weights0 = 2*np.random.random((3,4)) - 1\n",
    "weights1 = 2* np.random.random((4,1)) - 1"
   ]
  },
  {
   "cell_type": "code",
   "execution_count": null,
   "metadata": {},
   "outputs": [],
   "source": [
    "for iter in range(100000000000000):       \n",
    "    layer0 = x\n",
    "    layer1 = sig(np.dot(layer0,weights0))\n",
    "    layer2 = sig(np.dot(layer1,weights1))\n",
    "    l2_error = layer2 - y\n",
    "    l2_delta = l2_error * derivativeSig(layer2)\n",
    "    net_change2 = np.dot(layer1.T,l2_delta)\n",
    "    l1_error = l2_delta.dot(weights1.T)\n",
    "    l1_delta = l1_error * derivativeSig(layer1)\n",
    "    net_change1 = np.dot(layer0.T,l1_delta)\n",
    "    net_change2.shape\n",
    "    weights0 = weights0 - learning_rate*net_change1\n",
    "    weights1 = weights1 - learning_rate*net_change2\n",
    "\n",
    "layer0 = x\n",
    "layer1 = sig(np.dot(layer0,weights0))\n",
    "layer2 = sig(np.dot(layer1,weights1))\n",
    "layer2"
   ]
  },
  {
   "cell_type": "code",
   "execution_count": null,
   "metadata": {},
   "outputs": [],
   "source": []
  }
 ],
 "metadata": {
  "kernelspec": {
   "display_name": "Python 3",
   "language": "python",
   "name": "python3"
  },
  "language_info": {
   "codemirror_mode": {
    "name": "ipython",
    "version": 3
   },
   "file_extension": ".py",
   "mimetype": "text/x-python",
   "name": "python",
   "nbconvert_exporter": "python",
   "pygments_lexer": "ipython3",
   "version": "3.5.2"
  }
 },
 "nbformat": 4,
 "nbformat_minor": 2
}
