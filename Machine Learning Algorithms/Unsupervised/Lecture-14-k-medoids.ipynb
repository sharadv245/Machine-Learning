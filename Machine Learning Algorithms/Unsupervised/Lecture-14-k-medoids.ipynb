{
 "cells": [
  {
   "cell_type": "code",
   "execution_count": 177,
   "metadata": {},
   "outputs": [],
   "source": [
    "import numpy as np\n",
    "import matplotlib.pyplot as plt"
   ]
  },
  {
   "cell_type": "code",
   "execution_count": 178,
   "metadata": {},
   "outputs": [],
   "source": [
    "def distance(x):\n",
    "    x = np.array(x)\n",
    "    dist = []\n",
    "    for i in range(x.shape[0]):\n",
    "        dist.append([])\n",
    "    for i in range(x.shape[0]):\n",
    "        for j in range(x.shape[0]):\n",
    "            if (i != j) :\n",
    "                dist[i].append(abs(x[i] - x[j]).sum())\n",
    "    dist = np.array(dist)\n",
    "    mini = []\n",
    "    for i in range(x.shape[0]):\n",
    "        mini.append(dist[i].sum())\n",
    "    mini = np.array(mini)\n",
    "    m = min(mini)\n",
    "    for i in range(x.shape[0]):\n",
    "        if(mini[i] == m):\n",
    "            ind = i\n",
    "    return ind\n",
    "    "
   ]
  },
  {
   "cell_type": "code",
   "execution_count": 179,
   "metadata": {},
   "outputs": [
    {
     "name": "stdout",
     "output_type": "stream",
     "text": [
      "2\n"
     ]
    }
   ],
   "source": [
    "#b = [array([ 1.5,  1.8]), array([ 5.,  8.]), array([ 8.,  8.]), array([  9.,  11.])]\n",
    "b = np.array([[1.5,1.8],[5,8],[8,8],[9,11]])\n",
    "b\n",
    "b = distance(b)\n",
    "print(b)\n",
    "#b[0].sum()"
   ]
  },
  {
   "cell_type": "code",
   "execution_count": 180,
   "metadata": {},
   "outputs": [],
   "source": [
    " def fit(data,k = 2,max_iter = 1000):\n",
    "        medoids = []\n",
    "        for i in range(k):\n",
    "            medoids.append(data[i])\n",
    "        #print(medoids)\n",
    "        labels = []\n",
    "        for it in range(max_iter):\n",
    "            cluster_points = []\n",
    "            for i in range(k):\n",
    "                cluster_points.append([])\n",
    "            #print(cluster_points)\n",
    "            for point in data:\n",
    "                distances = [abs(point - m).sum() for m in medoids]\n",
    "                min_distance = min(distances)\n",
    "                classification = distances.index(min_distance)\n",
    "                cluster_points[classification].append(point)\n",
    "            #print(cluster_points)\n",
    "            change = False\n",
    "            for i in range(k):\n",
    "                new_medoids = []\n",
    "                #print('wwwwwwwwwwwwwww')\n",
    "                #print(cluster_points[i])\n",
    "                ind = distance(cluster_points[i])\n",
    "                #print('qqqqqqqqq')\n",
    "                #print(cluster_points[i][ind])\n",
    "                new_medoids.append(cluster_points[i][ind])\n",
    "                if not np.array_equal(medoids[i], new_medoids) :\n",
    "                    change = True\n",
    "                medoids[i] = new_medoids\n",
    "            if not change:\n",
    "                break\n",
    "        labels = predict(data,medoids)\n",
    "        return labels,medoids\n",
    "    \n",
    "def predict(test_data,medoids):\n",
    "        cluster_pred = []\n",
    "        for point in test_data:\n",
    "            distances = [(abs(point - m)).sum() for m in medoids]\n",
    "            min_distance = min(distances)\n",
    "            classification = distances.index(min_distance)\n",
    "            cluster_pred.append(classification)\n",
    "        return cluster_pred"
   ]
  },
  {
   "cell_type": "code",
   "execution_count": 181,
   "metadata": {},
   "outputs": [
    {
     "data": {
      "image/png": "[encoded data removed]",
      "text/plain": [
       "<matplotlib.figure.Figure at 0x2484cd4e160>"
      ]
     },
     "metadata": {},
     "output_type": "display_data"
    }
   ],
   "source": [
    "X = np.array([[2,6],[3,4],[3,8],[4,7],[6,2],[6,4],[7,3],[7,4],[8,5],[7,6]])\n",
    "plt.scatter(X[:,0], X[:,1])\n",
    "plt.show()"
   ]
  },
  {
   "cell_type": "code",
   "execution_count": 184,
   "metadata": {},
   "outputs": [
    {
     "name": "stdout",
     "output_type": "stream",
     "text": [
      "([0, 0, 0, 0, 1, 1, 1, 1, 1, 1], [[array([4, 7])], [array([7, 4])]])\n"
     ]
    }
   ],
   "source": [
    "r = fit(X)\n",
    "print(r)"
   ]
  },
  {
   "cell_type": "code",
   "execution_count": 183,
   "metadata": {},
   "outputs": [
    {
     "data": {
      "image/png": "[encoded data removed]",
      "text/plain": [
       "<matplotlib.figure.Figure at 0x2484cd646a0>"
      ]
     },
     "metadata": {},
     "output_type": "display_data"
    }
   ],
   "source": [
    "plt.scatter(X[:,0], X[:,1], c=fit(X)[0])\n",
    "#plt.scatter([1,2],[8,8])\n",
    "plt.show()"
   ]
  },
  {
   "cell_type": "code",
   "execution_count": null,
   "metadata": {},
   "outputs": [],
   "source": []
  }
 ],
 "metadata": {
  "kernelspec": {
   "display_name": "Python 3",
   "language": "python",
   "name": "python3"
  },
  "language_info": {
   "codemirror_mode": {
    "name": "ipython",
    "version": 3
   },
   "file_extension": ".py",
   "mimetype": "text/x-python",
   "name": "python",
   "nbconvert_exporter": "python",
   "pygments_lexer": "ipython3",
   "version": "3.5.2"
  }
 },
 "nbformat": 4,
 "nbformat_minor": 2
}
