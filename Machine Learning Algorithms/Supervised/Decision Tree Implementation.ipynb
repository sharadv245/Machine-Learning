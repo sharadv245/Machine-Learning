{
 "cells": [
  {
   "cell_type": "markdown",
   "metadata": {},
   "source": [
    "#Implement Binary Decision Tree\n",
    "def generate_decsion_tree(D, attribute_list)\n",
    "#create Node N\n",
    " If all tuples belong to same class -> mark class and return as leaf node\n",
    "#If no attributes left -> mark class with Majority and return as leaf nodes\n",
    "#splitting_criteria = apply attribute_selection_method(D, attribute_list)\n",
    "#attribute_list = attribute_list - splitting_criteria\n",
    "#for every j outcome of splitting_criteria:\n",
    "    let Dj be set of tuples satisfying outcome j\n",
    "    attach a nodereturned by generate_decsion_tree(Dj, attribute_list)\n"
   ]
  },
  {
   "cell_type": "code",
   "execution_count": null,
   "metadata": {
    "collapsed": true
   },
   "outputs": [],
   "source": []
  }
 ],
 "metadata": {
  "kernelspec": {
   "display_name": "Python 3",
   "language": "python",
   "name": "python3"
  },
  "language_info": {
   "codemirror_mode": {
    "name": "ipython",
    "version": 3
   },
   "file_extension": ".py",
   "mimetype": "text/x-python",
   "name": "python",
   "nbconvert_exporter": "python",
   "pygments_lexer": "ipython3",
   "version": "3.5.2"
  }
 },
 "nbformat": 4,
 "nbformat_minor": 2
}
